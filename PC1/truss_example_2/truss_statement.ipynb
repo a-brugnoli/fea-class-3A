{
 "cells": [
  {
   "cell_type": "markdown",
   "metadata": {},
   "source": [
    "# Help for writing your own code\n",
    "To help you write the code from scratch, you can find the code for a similar exercise at the following url \n",
    "\n",
    "https://github.com/a-brugnoli/fea-class/tree/main/PC1/truss_example_1\n",
    "\n",
    "In particular the useful functions are found at this link:\n",
    "\n",
    "https://github.com/a-brugnoli/fea-class/tree/main/src/fem/\n",
    "\n",
    "You can copy the necessary functions from there."
   ]
  },
  {
   "cell_type": "markdown",
   "metadata": {},
   "source": [
    "# Analysis of a 2D truss problem\n",
    "The following example is Example 3.9 at page 114 from *Kassimali, A. (2012). Matrix analysis of structures (Vol. 2). Cengage Learning.*\n",
    "![Truss](truss_sketch.svg)\n",
    "\n",
    "The bars number 3 and 4 do not actally cross each other.\n",
    "Find the displacements of the nodes, the reaction forces and the member axial forces.  \n",
    "\n",
    "You can then solve the the same problem but with a different loading condition.\n",
    "\n",
    "![Truss](truss_sketch_2.svg)\n",
    "\n",
    "Since the structure is the same (same geometry, material and boundary conditions), the stiffness matrix is the same.\n",
    "\n",
    "## To go further\n",
    "The material used (Aluminium) has a yield strength of $\\sigma_y = 400 \\, [\\mathrm{MPa}]$. Given a safety factor of 2, the maxixum stress accettable in the structure is $\\sigma_{{max}} = \\frac{1}{2} \\sigma_y = 200 \\, [\\mathrm{MPa}]$. Optimize the truss section so that the maximum stress in the structure is attained but not exceeded. Use the first load case for this study."
   ]
  },
  {
   "cell_type": "markdown",
   "metadata": {},
   "source": []
  }
 ],
 "metadata": {
  "language_info": {
   "name": "python"
  }
 },
 "nbformat": 4,
 "nbformat_minor": 2
}
