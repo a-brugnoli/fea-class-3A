{
 "cells": [
  {
   "cell_type": "markdown",
   "metadata": {},
   "source": [
    "# Analysis of planar truss structure\n",
    "\n",
    "We want to compute the displacement at nodes of the following truss structure\n",
    "\n",
    "![Truss](truss_sketch.svg \"Truss\")"
   ]
  },
  {
   "cell_type": "markdown",
   "metadata": {},
   "source": [
    "The numerical values for this example are the following:\n",
    "- $L = 1 \\;[\\mathrm{m}]$;\n",
    "- Cross section for beam 1: $A_1 = \\sqrt{2} A$ where $A = 4 \\cdot 10^{-4} \\; [\\mathrm{m}^2]$;\n",
    "- Cross section for beam 2: $A_2 = A$;\n",
    "- Young Modulus (for both beams) $E = 210 \\; [\\mathrm{GPa}]$;\n",
    "- From the geometry $\\theta = \\pi/4$;\n",
    "- Applied force $F = 50 \\; \\mathrm{kN}$."
   ]
  },
  {
   "cell_type": "markdown",
   "metadata": {},
   "source": []
  }
 ],
 "metadata": {
  "kernelspec": {
   "display_name": "base",
   "language": "python",
   "name": "python3"
  },
  "language_info": {
   "codemirror_mode": {
    "name": "ipython",
    "version": 3
   },
   "file_extension": ".py",
   "mimetype": "text/x-python",
   "name": "python",
   "nbconvert_exporter": "python",
   "pygments_lexer": "ipython3",
   "version": "3.11.8"
  }
 },
 "nbformat": 4,
 "nbformat_minor": 2
}
