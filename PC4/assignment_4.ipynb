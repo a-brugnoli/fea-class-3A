{
 "cells": [
  {
   "cell_type": "markdown",
   "metadata": {},
   "source": [
    "# 2D static FEA analysis of beams: bad conditioning\n",
    "\n",
    "Consider a frame composed of a floor and two poles, which is submitted\n",
    "to a lateral load. \n",
    "\n",
    "![Frame](frame_sketch.svg)\n",
    "\n",
    "\n",
    "The poles are modeled as pure bending beams (no shear deformation) and the floor as beam deforming both in bending and traction. The problem can be simplfy considering that the floor is infinitely rigid in bending  (the rotations at nodes 2 and 3 are zero) and the floor deforms only axially.\n",
    "1. Express the stiffness matrix of the free-body structure.\n",
    "2. Decompose the stiffness matrix of the algebraic system of equations to solve, while taking into account the boundary conditions of the clamped poles. Equivalently, find $\\mathbf{K}_{\\mathrm{red}}$, the stiffness matrix without the rows and columns associated to boundary conditions.\n",
    "3. To solve the system consider the normalized stiffness matrix \n",
    "    $$\\mathbf{K}_{\\mathrm{nor}} = \\mathbf{K}_{\\mathrm{red}}/\\beta$$\n",
    "   Solve the algebraic system  \n",
    "    $$\n",
    "    \\mathbf{K}_{\\mathrm{nor}}\\mathbf{u}_{\\mathrm{red}} = \\mathbf{f}_{\\mathrm{red}}/\\beta\n",
    "    $$\n",
    "   for a unit-norm lateral force $F=1 \\; [N]$. \n",
    "\n",
    "   For the finite precision computation of normalized stiffness matrix $\\mathbf{K}_{\\mathrm{nor}}$ use either:\n",
    "    + four significant digits,\n",
    "    + six significant digits.\n",
    "\n",
    "| Floor                                    | Poles                                  | \n",
    "|------------------------------------------|----------------------------------------|\n",
    "|$L = 3.45 \\; [\\rm{m}]$                    | $L = 3.45 \\;[\\rm{m}]$                  | \n",
    "|$A = 3.45 \\cdot 10^{-2} \\; [\\rm{m^2}]$    | $t=2 \\cdot 10^{-3} \\; [\\rm{m}]$        |\n",
    "|$E = 20 \\cdot 10^{10} \\; [\\rm{N/m^2}]$    | $R = 10^{-1} \\; [\\rm{m}]$              |\n",
    "|                                          | $I = \\pi R^3 t$                        |\n",
    "|                                          | $E = 20 \\cdot 10^{10} \\; [\\rm{N/m^2}]$ |\n",
    "\n"
   ]
  },
  {
   "cell_type": "markdown",
   "metadata": {},
   "source": []
  }
 ],
 "metadata": {
  "language_info": {
   "name": "python"
  }
 },
 "nbformat": 4,
 "nbformat_minor": 2
}
