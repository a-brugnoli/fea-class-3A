{
 "cells": [
  {
   "cell_type": "markdown",
   "id": "908815e6-cdac-4915-bf52-5578f978d2e7",
   "metadata": {},
   "source": [
    "# Hyperelasticity\n",
    "Author: Jørgen S. Dokken and Garth N. Wells\n",
    "\n",
    "This section shows how to solve the hyperelasticity problem for deformation of a beam.\n",
    "\n",
    "We will also show how to create a constant boundary condition for a vector function space.\n",
    "\n",
    "We start by importing DOLFINx and some additional dependencies.\n",
    "Then, we create a slender cantilever consisting of hexahedral elements and create the function space `V` for our unknown."
   ]
  },
  {
   "cell_type": "code",
   "execution_count": 1,
   "id": "optional-cameroon",
   "metadata": {
    "tags": []
   },
   "outputs": [],
   "source": [
    "from dolfinx import log, default_scalar_type\n",
    "from dolfinx.fem.petsc import NonlinearProblem\n",
    "from dolfinx.nls.petsc import NewtonSolver\n",
    "import pyvista\n",
    "import numpy as np\n",
    "import ufl\n",
    "\n",
    "from mpi4py import MPI\n",
    "from dolfinx import fem, mesh, plot\n",
    "L = 20.0\n",
    "domain = mesh.create_box(MPI.COMM_WORLD, [[0.0, 0.0, 0.0], [L, 1, 1]], [20, 5, 5], mesh.CellType.hexahedron)\n",
    "V = fem.functionspace(domain, (\"Lagrange\", 2, (domain.geometry.dim, )))"
   ]
  },
  {
   "cell_type": "markdown",
   "id": "streaming-neutral",
   "metadata": {},
   "source": [
    "We create two python functions for determining the facets to apply boundary conditions to"
   ]
  },
  {
   "cell_type": "code",
   "execution_count": 2,
   "id": "major-factor",
   "metadata": {},
   "outputs": [],
   "source": [
    "def left(x):\n",
    "    return np.isclose(x[0], 0)\n",
    "\n",
    "\n",
    "def right(x):\n",
    "    return np.isclose(x[0], L)\n",
    "\n",
    "\n",
    "fdim = domain.topology.dim - 1\n",
    "left_facets = mesh.locate_entities_boundary(domain, fdim, left)\n",
    "right_facets = mesh.locate_entities_boundary(domain, fdim, right)"
   ]
  },
  {
   "cell_type": "markdown",
   "id": "figured-world",
   "metadata": {},
   "source": [
    "Next, we create a  marker based on these two functions"
   ]
  },
  {
   "cell_type": "code",
   "execution_count": 3,
   "id": "dated-india",
   "metadata": {},
   "outputs": [],
   "source": [
    "# Concatenate and sort the arrays based on facet indices. Left facets marked with 1, right facets with two\n",
    "marked_facets = np.hstack([left_facets, right_facets])\n",
    "marked_values = np.hstack([np.full_like(left_facets, 1), np.full_like(right_facets, 2)])\n",
    "sorted_facets = np.argsort(marked_facets)\n",
    "facet_tag = mesh.meshtags(domain, fdim, marked_facets[sorted_facets], marked_values[sorted_facets])"
   ]
  },
  {
   "cell_type": "markdown",
   "id": "renewable-glossary",
   "metadata": {},
   "source": [
    "We then create a function for supplying the boundary condition on the left side, which is fixed."
   ]
  },
  {
   "cell_type": "code",
   "execution_count": 4,
   "id": "confidential-french",
   "metadata": {},
   "outputs": [],
   "source": [
    "u_bc = np.array((0,) * domain.geometry.dim, dtype=default_scalar_type)"
   ]
  },
  {
   "cell_type": "markdown",
   "id": "musical-documentation",
   "metadata": {},
   "source": [
    "To apply the boundary condition, we identity the dofs located on the facets marked by the `MeshTag`."
   ]
  },
  {
   "cell_type": "code",
   "execution_count": 5,
   "id": "written-monster",
   "metadata": {},
   "outputs": [],
   "source": [
    "left_dofs = fem.locate_dofs_topological(V, facet_tag.dim, facet_tag.find(1))\n",
    "bcs = [fem.dirichletbc(u_bc, left_dofs, V)]"
   ]
  },
  {
   "cell_type": "markdown",
   "id": "indoor-chester",
   "metadata": {},
   "source": [
    "Next, we define the body force on the reference configuration (`B`), and nominal (first Piola-Kirchhoff) traction (`T`)."
   ]
  },
  {
   "cell_type": "code",
   "execution_count": 6,
   "id": "korean-carol",
   "metadata": {},
   "outputs": [],
   "source": [
    "B = fem.Constant(domain, default_scalar_type((0, 0, 0)))\n",
    "T = fem.Constant(domain, default_scalar_type((0, 0, 0)))"
   ]
  },
  {
   "cell_type": "markdown",
   "id": "blond-dynamics",
   "metadata": {},
   "source": [
    "Define the test and solution functions on the space $V$"
   ]
  },
  {
   "cell_type": "code",
   "execution_count": 7,
   "id": "vocational-experiment",
   "metadata": {},
   "outputs": [],
   "source": [
    "v = ufl.TestFunction(V)\n",
    "u = fem.Function(V)"
   ]
  },
  {
   "cell_type": "markdown",
   "id": "bright-belle",
   "metadata": {},
   "source": [
    "Define kinematic quantities used in the problem"
   ]
  },
  {
   "cell_type": "code",
   "execution_count": 8,
   "id": "vertical-original",
   "metadata": {},
   "outputs": [],
   "source": [
    "# Spatial dimension\n",
    "d = len(u)\n",
    "\n",
    "# Identity tensor\n",
    "I = ufl.variable(ufl.Identity(d))\n",
    "\n",
    "# Deformation gradient\n",
    "F = ufl.variable(I + ufl.grad(u))\n",
    "\n",
    "# Right Cauchy-Green tensor\n",
    "C = ufl.variable(F.T * F)\n",
    "\n",
    "# Invariants of deformation tensors\n",
    "Ic = ufl.variable(ufl.tr(C))\n",
    "J = ufl.variable(ufl.det(F))"
   ]
  },
  {
   "cell_type": "markdown",
   "id": "respiratory-compromise",
   "metadata": {},
   "source": [
    "Define the elasticity model via a stored strain energy density function $\\psi$, and create the expression for the first Piola-Kirchhoff stress:"
   ]
  },
  {
   "cell_type": "code",
   "execution_count": 9,
   "id": "incorrect-hello",
   "metadata": {},
   "outputs": [],
   "source": [
    "# Elasticity parameters\n",
    "E = default_scalar_type(1.0e4)\n",
    "nu = default_scalar_type(0.3)\n",
    "mu = fem.Constant(domain, E / (2 * (1 + nu)))\n",
    "lmbda = fem.Constant(domain, E * nu / ((1 + nu) * (1 - 2 * nu)))\n",
    "# Stored strain energy density (compressible neo-Hookean model)\n",
    "psi = (mu / 2) * (Ic - 3) - mu * ufl.ln(J) + (lmbda / 2) * (ufl.ln(J))**2\n",
    "# Stress\n",
    "# Hyper-elasticity\n",
    "P = ufl.diff(psi, F)"
   ]
  },
  {
   "cell_type": "markdown",
   "id": "grateful-battlefield",
   "metadata": {},
   "source": [
    "```{admonition} Comparison to linear elasticity\n",
    "To illustrate the difference between linear and hyperelasticity, the following lines can be uncommented to solve the linear elasticity problem.\n",
    "```"
   ]
  },
  {
   "cell_type": "code",
   "execution_count": 10,
   "id": "imperial-jurisdiction",
   "metadata": {},
   "outputs": [],
   "source": [
    "# P = 2.0 * mu * ufl.sym(ufl.grad(u)) + lmbda * ufl.tr(ufl.sym(ufl.grad(u))) * I"
   ]
  },
  {
   "cell_type": "markdown",
   "id": "alleged-genesis",
   "metadata": {},
   "source": [
    "Define the variational form with traction integral over all facets with value 2. We set the quadrature degree for the integrals to 4."
   ]
  },
  {
   "cell_type": "code",
   "execution_count": 11,
   "id": "recognized-conclusion",
   "metadata": {},
   "outputs": [],
   "source": [
    "metadata = {\"quadrature_degree\": 4}\n",
    "ds = ufl.Measure('ds', domain=domain, subdomain_data=facet_tag, metadata=metadata)\n",
    "dx = ufl.Measure(\"dx\", domain=domain, metadata=metadata)\n",
    "# Define form F (we want to find u such that F(u) = 0)\n",
    "F = ufl.inner(ufl.grad(v), P) * dx - ufl.inner(v, B) * dx - ufl.inner(v, T) * ds(2)"
   ]
  },
  {
   "cell_type": "markdown",
   "id": "historic-sherman",
   "metadata": {},
   "source": [
    "As the varitional form is non-linear and written on residual form, we use the non-linear problem class from DOLFINx to set up required structures to use a Newton solver."
   ]
  },
  {
   "cell_type": "code",
   "execution_count": 12,
   "id": "threatened-devices",
   "metadata": {},
   "outputs": [],
   "source": [
    "problem = NonlinearProblem(F, u, bcs)"
   ]
  },
  {
   "cell_type": "markdown",
   "id": "qualified-phrase",
   "metadata": {},
   "source": [
    "and then create and customize the Newton solver"
   ]
  },
  {
   "cell_type": "code",
   "execution_count": 13,
   "id": "special-globe",
   "metadata": {},
   "outputs": [],
   "source": [
    "solver = NewtonSolver(domain.comm, problem)\n",
    "\n",
    "# Set Newton solver options\n",
    "solver.atol = 1e-8\n",
    "solver.rtol = 1e-8\n",
    "solver.convergence_criterion = \"incremental\"\n"
   ]
  },
  {
   "cell_type": "markdown",
   "id": "marked-hungary",
   "metadata": {},
   "source": [
    "We create a function to plot the solution at each time step."
   ]
  },
  {
   "cell_type": "code",
   "execution_count": 14,
   "id": "noble-perception",
   "metadata": {},
   "outputs": [],
   "source": [
    "from pathlib import Path\n",
    "import os\n",
    "current_directory = os.getcwd()\n",
    "results_folder = Path(current_directory + '/fenicsx/hyperelasticity/results/')\n",
    "results_folder.mkdir(exist_ok=True, parents=True)\n",
    "\n",
    "pyvista.start_xvfb()\n",
    "plotter = pyvista.Plotter()\n",
    "plotter.open_gif(str(results_folder) + \"/displacement.gif\", fps=3)\n",
    "\n",
    "topology, cells, geometry = plot.vtk_mesh(u.function_space)\n",
    "function_grid = pyvista.UnstructuredGrid(topology, cells, geometry)\n",
    "\n",
    "values = np.zeros((geometry.shape[0], 3))\n",
    "values[:, :len(u)] = u.x.array.reshape(geometry.shape[0], len(u))\n",
    "function_grid[\"u\"] = values\n",
    "function_grid.set_active_vectors(\"u\")\n",
    "\n",
    "# Warp mesh by deformation\n",
    "warped = function_grid.warp_by_vector(\"u\", factor=1)\n",
    "warped.set_active_vectors(\"u\")\n",
    "\n",
    "# Add mesh to plotter and visualize\n",
    "actor = plotter.add_mesh(warped, show_edges=True, lighting=False, clim=[0, 10])\n",
    "\n",
    "# Compute magnitude of displacement to visualize in GIF\n",
    "Vs = fem.functionspace(domain, (\"Lagrange\", 2))\n",
    "magnitude = fem.Function(Vs)\n",
    "us = fem.Expression(ufl.sqrt(sum([u[i]**2 for i in range(len(u))])), Vs.element.interpolation_points())\n",
    "magnitude.interpolate(us)\n",
    "warped[\"mag\"] = magnitude.x.array"
   ]
  },
  {
   "cell_type": "markdown",
   "id": "nasty-entertainment",
   "metadata": {},
   "source": [
    "Finally, we solve the problem over several time steps, updating the z-component of the traction"
   ]
  },
  {
   "cell_type": "code",
   "execution_count": 15,
   "id": "vanilla-referral",
   "metadata": {},
   "outputs": [
    {
     "name": "stderr",
     "output_type": "stream",
     "text": [
      "2025-04-16 17:19:27.050 (  18.704s) [main            ]              petsc.cpp:700   INFO| PETSc Krylov solver starting to solve system.\n",
      "2025-04-16 17:19:28.903 (  20.556s) [main            ]              petsc.cpp:700   INFO| PETSc Krylov solver starting to solve system.\n",
      "2025-04-16 17:19:30.402 (  22.055s) [main            ]       NewtonSolver.cpp:38    INFO| Newton iteration 2: r (abs) = 22.2455 (tol = 1e-08) r (rel) = 0.134278(tol = 1e-08)\n",
      "2025-04-16 17:19:30.562 (  22.216s) [main            ]              petsc.cpp:700   INFO| PETSc Krylov solver starting to solve system.\n",
      "2025-04-16 17:19:32.073 (  23.727s) [main            ]       NewtonSolver.cpp:38    INFO| Newton iteration 3: r (abs) = 2.43261 (tol = 1e-08) r (rel) = 0.0146837(tol = 1e-08)\n",
      "2025-04-16 17:19:32.238 (  23.892s) [main            ]              petsc.cpp:700   INFO| PETSc Krylov solver starting to solve system.\n",
      "2025-04-16 17:19:33.751 (  25.404s) [main            ]       NewtonSolver.cpp:38    INFO| Newton iteration 4: r (abs) = 4.43158 (tol = 1e-08) r (rel) = 0.0267498(tol = 1e-08)\n",
      "2025-04-16 17:19:33.909 (  25.562s) [main            ]              petsc.cpp:700   INFO| PETSc Krylov solver starting to solve system.\n",
      "2025-04-16 17:19:35.395 (  27.049s) [main            ]       NewtonSolver.cpp:38    INFO| Newton iteration 5: r (abs) = 0.144189 (tol = 1e-08) r (rel) = 0.000870353(tol = 1e-08)\n",
      "2025-04-16 17:19:35.560 (  27.214s) [main            ]              petsc.cpp:700   INFO| PETSc Krylov solver starting to solve system.\n",
      "2025-04-16 17:19:37.095 (  28.749s) [main            ]       NewtonSolver.cpp:38    INFO| Newton iteration 6: r (abs) = 0.0214239 (tol = 1e-08) r (rel) = 0.000129319(tol = 1e-08)\n",
      "2025-04-16 17:19:37.256 (  28.910s) [main            ]              petsc.cpp:700   INFO| PETSc Krylov solver starting to solve system.\n",
      "2025-04-16 17:19:38.817 (  30.470s) [main            ]       NewtonSolver.cpp:38    INFO| Newton iteration 7: r (abs) = 4.80064e-06 (tol = 1e-08) r (rel) = 2.89776e-08(tol = 1e-08)\n",
      "2025-04-16 17:19:38.985 (  30.638s) [main            ]              petsc.cpp:700   INFO| PETSc Krylov solver starting to solve system.\n"
     ]
    },
    {
     "name": "stdout",
     "output_type": "stream",
     "text": [
      "Time step 1, Number of iterations 8, Load [ 0.   0.  -1.5]\n"
     ]
    },
    {
     "name": "stderr",
     "output_type": "stream",
     "text": [
      "2025-04-16 17:19:40.550 (  32.204s) [main            ]       NewtonSolver.cpp:38    INFO| Newton iteration 8: r (abs) = 2.67736e-11 (tol = 1e-08) r (rel) = 1.61611e-13(tol = 1e-08)\n",
      "2025-04-16 17:19:40.550 (  32.204s) [main            ]       NewtonSolver.cpp:252   INFO| Newton solver finished in 8 iterations and 8 linear solver iterations.\n",
      "2025-04-16 17:19:40.894 (  32.547s) [main            ]              petsc.cpp:700   INFO| PETSc Krylov solver starting to solve system.\n",
      "2025-04-16 17:19:42.690 (  34.343s) [main            ]              petsc.cpp:700   INFO| PETSc Krylov solver starting to solve system.\n",
      "2025-04-16 17:19:44.255 (  35.908s) [main            ]       NewtonSolver.cpp:38    INFO| Newton iteration 2: r (abs) = 17.3254 (tol = 1e-08) r (rel) = 0.117842(tol = 1e-08)\n",
      "2025-04-16 17:19:44.422 (  36.075s) [main            ]              petsc.cpp:700   INFO| PETSc Krylov solver starting to solve system.\n",
      "2025-04-16 17:19:45.964 (  37.617s) [main            ]       NewtonSolver.cpp:38    INFO| Newton iteration 3: r (abs) = 5.14882 (tol = 1e-08) r (rel) = 0.0350207(tol = 1e-08)\n",
      "2025-04-16 17:19:46.134 (  37.787s) [main            ]              petsc.cpp:700   INFO| PETSc Krylov solver starting to solve system.\n",
      "2025-04-16 17:19:47.714 (  39.368s) [main            ]       NewtonSolver.cpp:38    INFO| Newton iteration 4: r (abs) = 7.24003 (tol = 1e-08) r (rel) = 0.0492445(tol = 1e-08)\n",
      "2025-04-16 17:19:47.883 (  39.536s) [main            ]              petsc.cpp:700   INFO| PETSc Krylov solver starting to solve system.\n",
      "2025-04-16 17:19:49.536 (  41.189s) [main            ]       NewtonSolver.cpp:38    INFO| Newton iteration 5: r (abs) = 0.777889 (tol = 1e-08) r (rel) = 0.00529096(tol = 1e-08)\n",
      "2025-04-16 17:19:49.707 (  41.360s) [main            ]              petsc.cpp:700   INFO| PETSc Krylov solver starting to solve system.\n",
      "2025-04-16 17:19:51.384 (  43.037s) [main            ]       NewtonSolver.cpp:38    INFO| Newton iteration 6: r (abs) = 1.25525 (tol = 1e-08) r (rel) = 0.00853785(tol = 1e-08)\n",
      "2025-04-16 17:19:51.548 (  43.201s) [main            ]              petsc.cpp:700   INFO| PETSc Krylov solver starting to solve system.\n",
      "2025-04-16 17:19:53.109 (  44.762s) [main            ]       NewtonSolver.cpp:38    INFO| Newton iteration 7: r (abs) = 0.00849512 (tol = 1e-08) r (rel) = 5.77812e-05(tol = 1e-08)\n",
      "2025-04-16 17:19:53.273 (  44.926s) [main            ]              petsc.cpp:700   INFO| PETSc Krylov solver starting to solve system.\n",
      "2025-04-16 17:19:54.853 (  46.506s) [main            ]       NewtonSolver.cpp:38    INFO| Newton iteration 8: r (abs) = 0.000192107 (tol = 1e-08) r (rel) = 1.30665e-06(tol = 1e-08)\n",
      "2025-04-16 17:19:55.030 (  46.683s) [main            ]              petsc.cpp:700   INFO| PETSc Krylov solver starting to solve system.\n",
      "2025-04-16 17:19:56.531 (  48.184s) [main            ]       NewtonSolver.cpp:38    INFO| Newton iteration 9: r (abs) = 1.70763e-10 (tol = 1e-08) r (rel) = 1.16148e-12(tol = 1e-08)\n",
      "2025-04-16 17:19:56.531 (  48.184s) [main            ]       NewtonSolver.cpp:252   INFO| Newton solver finished in 9 iterations and 9 linear solver iterations.\n",
      "2025-04-16 17:19:56.733 (  48.386s) [main            ]              petsc.cpp:700   INFO| PETSc Krylov solver starting to solve system.\n"
     ]
    },
    {
     "name": "stdout",
     "output_type": "stream",
     "text": [
      "Time step 2, Number of iterations 9, Load [ 0.  0. -3.]\n"
     ]
    },
    {
     "name": "stderr",
     "output_type": "stream",
     "text": [
      "2025-04-16 17:19:58.452 (  50.106s) [main            ]              petsc.cpp:700   INFO| PETSc Krylov solver starting to solve system.\n",
      "2025-04-16 17:19:59.989 (  51.642s) [main            ]       NewtonSolver.cpp:38    INFO| Newton iteration 2: r (abs) = 10.0011 (tol = 1e-08) r (rel) = 0.0887471(tol = 1e-08)\n",
      "2025-04-16 17:20:00.166 (  51.820s) [main            ]              petsc.cpp:700   INFO| PETSc Krylov solver starting to solve system.\n",
      "2025-04-16 17:20:01.801 (  53.454s) [main            ]       NewtonSolver.cpp:38    INFO| Newton iteration 3: r (abs) = 5.33026 (tol = 1e-08) r (rel) = 0.0472992(tol = 1e-08)\n",
      "2025-04-16 17:20:01.969 (  53.623s) [main            ]              petsc.cpp:700   INFO| PETSc Krylov solver starting to solve system.\n",
      "2025-04-16 17:20:03.504 (  55.158s) [main            ]       NewtonSolver.cpp:38    INFO| Newton iteration 4: r (abs) = 11.9901 (tol = 1e-08) r (rel) = 0.106397(tol = 1e-08)\n",
      "2025-04-16 17:20:03.668 (  55.322s) [main            ]              petsc.cpp:700   INFO| PETSc Krylov solver starting to solve system.\n",
      "2025-04-16 17:20:05.218 (  56.871s) [main            ]       NewtonSolver.cpp:38    INFO| Newton iteration 5: r (abs) = 2.29702 (tol = 1e-08) r (rel) = 0.0203831(tol = 1e-08)\n",
      "2025-04-16 17:20:05.387 (  57.040s) [main            ]              petsc.cpp:700   INFO| PETSc Krylov solver starting to solve system.\n",
      "2025-04-16 17:20:06.895 (  58.549s) [main            ]       NewtonSolver.cpp:38    INFO| Newton iteration 6: r (abs) = 3.90234 (tol = 1e-08) r (rel) = 0.0346282(tol = 1e-08)\n",
      "2025-04-16 17:20:07.062 (  58.715s) [main            ]              petsc.cpp:700   INFO| PETSc Krylov solver starting to solve system.\n",
      "2025-04-16 17:20:08.669 (  60.323s) [main            ]       NewtonSolver.cpp:38    INFO| Newton iteration 7: r (abs) = 0.236535 (tol = 1e-08) r (rel) = 0.00209895(tol = 1e-08)\n",
      "2025-04-16 17:20:08.855 (  60.508s) [main            ]              petsc.cpp:700   INFO| PETSc Krylov solver starting to solve system.\n",
      "2025-04-16 17:20:10.436 (  62.089s) [main            ]       NewtonSolver.cpp:38    INFO| Newton iteration 8: r (abs) = 0.0427142 (tol = 1e-08) r (rel) = 0.000379034(tol = 1e-08)\n",
      "2025-04-16 17:20:10.605 (  62.259s) [main            ]              petsc.cpp:700   INFO| PETSc Krylov solver starting to solve system.\n",
      "2025-04-16 17:20:12.208 (  63.861s) [main            ]       NewtonSolver.cpp:38    INFO| Newton iteration 9: r (abs) = 2.87798e-05 (tol = 1e-08) r (rel) = 2.55384e-07(tol = 1e-08)\n",
      "2025-04-16 17:20:12.376 (  64.029s) [main            ]              petsc.cpp:700   INFO| PETSc Krylov solver starting to solve system.\n",
      "2025-04-16 17:20:13.883 (  65.536s) [main            ]       NewtonSolver.cpp:38    INFO| Newton iteration 10: r (abs) = 6.08837e-10 (tol = 1e-08) r (rel) = 5.40265e-12(tol = 1e-08)\n",
      "2025-04-16 17:20:13.883 (  65.536s) [main            ]       NewtonSolver.cpp:252   INFO| Newton solver finished in 10 iterations and 10 linear solver iterations.\n"
     ]
    },
    {
     "name": "stdout",
     "output_type": "stream",
     "text": [
      "Time step 3, Number of iterations 10, Load [ 0.   0.  -4.5]\n"
     ]
    },
    {
     "name": "stderr",
     "output_type": "stream",
     "text": [
      "2025-04-16 17:20:14.083 (  65.737s) [main            ]              petsc.cpp:700   INFO| PETSc Krylov solver starting to solve system.\n",
      "2025-04-16 17:20:15.785 (  67.438s) [main            ]              petsc.cpp:700   INFO| PETSc Krylov solver starting to solve system.\n",
      "2025-04-16 17:20:17.326 (  68.980s) [main            ]       NewtonSolver.cpp:38    INFO| Newton iteration 2: r (abs) = 5.50693 (tol = 1e-08) r (rel) = 0.0653918(tol = 1e-08)\n",
      "2025-04-16 17:20:17.497 (  69.150s) [main            ]              petsc.cpp:700   INFO| PETSc Krylov solver starting to solve system.\n",
      "2025-04-16 17:20:19.048 (  70.702s) [main            ]       NewtonSolver.cpp:38    INFO| Newton iteration 3: r (abs) = 26.2489 (tol = 1e-08) r (rel) = 0.311692(tol = 1e-08)\n",
      "2025-04-16 17:20:19.217 (  70.870s) [main            ]              petsc.cpp:700   INFO| PETSc Krylov solver starting to solve system.\n",
      "2025-04-16 17:20:20.750 (  72.403s) [main            ]       NewtonSolver.cpp:38    INFO| Newton iteration 4: r (abs) = 2.30927 (tol = 1e-08) r (rel) = 0.0274213(tol = 1e-08)\n",
      "2025-04-16 17:20:20.918 (  72.571s) [main            ]              petsc.cpp:700   INFO| PETSc Krylov solver starting to solve system.\n",
      "2025-04-16 17:20:22.412 (  74.065s) [main            ]       NewtonSolver.cpp:38    INFO| Newton iteration 5: r (abs) = 14.0562 (tol = 1e-08) r (rel) = 0.16691(tol = 1e-08)\n",
      "2025-04-16 17:20:22.577 (  74.231s) [main            ]              petsc.cpp:700   INFO| PETSc Krylov solver starting to solve system.\n",
      "2025-04-16 17:20:24.071 (  75.725s) [main            ]       NewtonSolver.cpp:38    INFO| Newton iteration 6: r (abs) = 0.222774 (tol = 1e-08) r (rel) = 0.00264532(tol = 1e-08)\n",
      "2025-04-16 17:20:24.238 (  75.892s) [main            ]              petsc.cpp:700   INFO| PETSc Krylov solver starting to solve system.\n",
      "2025-04-16 17:20:25.771 (  77.424s) [main            ]       NewtonSolver.cpp:38    INFO| Newton iteration 7: r (abs) = 0.286671 (tol = 1e-08) r (rel) = 0.00340406(tol = 1e-08)\n",
      "2025-04-16 17:20:25.939 (  77.593s) [main            ]              petsc.cpp:700   INFO| PETSc Krylov solver starting to solve system.\n",
      "2025-04-16 17:20:27.492 (  79.145s) [main            ]       NewtonSolver.cpp:38    INFO| Newton iteration 8: r (abs) = 0.000321869 (tol = 1e-08) r (rel) = 3.82203e-06(tol = 1e-08)\n",
      "2025-04-16 17:20:27.683 (  79.336s) [main            ]              petsc.cpp:700   INFO| PETSc Krylov solver starting to solve system.\n",
      "2025-04-16 17:20:29.221 (  80.874s) [main            ]       NewtonSolver.cpp:38    INFO| Newton iteration 9: r (abs) = 2.63797e-07 (tol = 1e-08) r (rel) = 3.13245e-09(tol = 1e-08)\n",
      "2025-04-16 17:20:29.221 (  80.874s) [main            ]       NewtonSolver.cpp:252   INFO| Newton solver finished in 9 iterations and 9 linear solver iterations.\n"
     ]
    },
    {
     "name": "stdout",
     "output_type": "stream",
     "text": [
      "Time step 4, Number of iterations 9, Load [ 0.  0. -6.]\n"
     ]
    },
    {
     "name": "stderr",
     "output_type": "stream",
     "text": [
      "2025-04-16 17:20:29.440 (  81.093s) [main            ]              petsc.cpp:700   INFO| PETSc Krylov solver starting to solve system.\n",
      "2025-04-16 17:20:31.102 (  82.756s) [main            ]              petsc.cpp:700   INFO| PETSc Krylov solver starting to solve system.\n",
      "2025-04-16 17:20:32.645 (  84.298s) [main            ]       NewtonSolver.cpp:38    INFO| Newton iteration 2: r (abs) = 3.19462 (tol = 1e-08) r (rel) = 0.0496479(tol = 1e-08)\n",
      "2025-04-16 17:20:32.811 (  84.465s) [main            ]              petsc.cpp:700   INFO| PETSc Krylov solver starting to solve system.\n",
      "2025-04-16 17:20:34.402 (  86.055s) [main            ]       NewtonSolver.cpp:38    INFO| Newton iteration 3: r (abs) = 7.71429 (tol = 1e-08) r (rel) = 0.119888(tol = 1e-08)\n",
      "2025-04-16 17:20:34.568 (  86.222s) [main            ]              petsc.cpp:700   INFO| PETSc Krylov solver starting to solve system.\n",
      "2025-04-16 17:20:36.117 (  87.771s) [main            ]       NewtonSolver.cpp:38    INFO| Newton iteration 4: r (abs) = 0.850873 (tol = 1e-08) r (rel) = 0.0132235(tol = 1e-08)\n",
      "2025-04-16 17:20:36.284 (  87.938s) [main            ]              petsc.cpp:700   INFO| PETSc Krylov solver starting to solve system.\n",
      "2025-04-16 17:20:37.830 (  89.484s) [main            ]       NewtonSolver.cpp:38    INFO| Newton iteration 5: r (abs) = 0.371434 (tol = 1e-08) r (rel) = 0.0057725(tol = 1e-08)\n",
      "2025-04-16 17:20:37.999 (  89.652s) [main            ]              petsc.cpp:700   INFO| PETSc Krylov solver starting to solve system.\n",
      "2025-04-16 17:20:39.554 (  91.207s) [main            ]       NewtonSolver.cpp:38    INFO| Newton iteration 6: r (abs) = 0.00215066 (tol = 1e-08) r (rel) = 3.34236e-05(tol = 1e-08)\n",
      "2025-04-16 17:20:39.719 (  91.372s) [main            ]              petsc.cpp:700   INFO| PETSc Krylov solver starting to solve system.\n",
      "2025-04-16 17:20:41.220 (  92.873s) [main            ]       NewtonSolver.cpp:38    INFO| Newton iteration 7: r (abs) = 2.54607e-06 (tol = 1e-08) r (rel) = 3.95687e-08(tol = 1e-08)\n",
      "2025-04-16 17:20:41.384 (  93.038s) [main            ]              petsc.cpp:700   INFO| PETSc Krylov solver starting to solve system.\n",
      "2025-04-16 17:20:42.881 (  94.534s) [main            ]       NewtonSolver.cpp:38    INFO| Newton iteration 8: r (abs) = 4.21806e-13 (tol = 1e-08) r (rel) = 6.55533e-15(tol = 1e-08)\n",
      "2025-04-16 17:20:42.881 (  94.534s) [main            ]       NewtonSolver.cpp:252   INFO| Newton solver finished in 8 iterations and 8 linear solver iterations.\n",
      "2025-04-16 17:20:43.085 (  94.739s) [main            ]              petsc.cpp:700   INFO| PETSc Krylov solver starting to solve system.\n"
     ]
    },
    {
     "name": "stdout",
     "output_type": "stream",
     "text": [
      "Time step 5, Number of iterations 8, Load [ 0.   0.  -7.5]\n"
     ]
    },
    {
     "name": "stderr",
     "output_type": "stream",
     "text": [
      "2025-04-16 17:20:44.752 (  96.405s) [main            ]              petsc.cpp:700   INFO| PETSc Krylov solver starting to solve system.\n",
      "2025-04-16 17:20:46.251 (  97.904s) [main            ]       NewtonSolver.cpp:38    INFO| Newton iteration 2: r (abs) = 2.00649 (tol = 1e-08) r (rel) = 0.0395622(tol = 1e-08)\n",
      "2025-04-16 17:20:46.417 (  98.070s) [main            ]              petsc.cpp:700   INFO| PETSc Krylov solver starting to solve system.\n",
      "2025-04-16 17:20:47.939 (  99.592s) [main            ]       NewtonSolver.cpp:38    INFO| Newton iteration 3: r (abs) = 4.60977 (tol = 1e-08) r (rel) = 0.0908914(tol = 1e-08)\n",
      "2025-04-16 17:20:48.104 (  99.757s) [main            ]              petsc.cpp:700   INFO| PETSc Krylov solver starting to solve system.\n",
      "2025-04-16 17:20:49.633 ( 101.286s) [main            ]       NewtonSolver.cpp:38    INFO| Newton iteration 4: r (abs) = 0.185372 (tol = 1e-08) r (rel) = 0.00365501(tol = 1e-08)\n",
      "2025-04-16 17:20:49.801 ( 101.454s) [main            ]              petsc.cpp:700   INFO| PETSc Krylov solver starting to solve system.\n",
      "2025-04-16 17:20:51.352 ( 103.005s) [main            ]       NewtonSolver.cpp:38    INFO| Newton iteration 5: r (abs) = 0.024688 (tol = 1e-08) r (rel) = 0.000486777(tol = 1e-08)\n",
      "2025-04-16 17:20:51.515 ( 103.168s) [main            ]              petsc.cpp:700   INFO| PETSc Krylov solver starting to solve system.\n",
      "2025-04-16 17:20:53.018 ( 104.671s) [main            ]       NewtonSolver.cpp:38    INFO| Newton iteration 6: r (abs) = 5.69255e-06 (tol = 1e-08) r (rel) = 1.12241e-07(tol = 1e-08)\n",
      "2025-04-16 17:20:53.182 ( 104.835s) [main            ]              petsc.cpp:700   INFO| PETSc Krylov solver starting to solve system.\n"
     ]
    },
    {
     "name": "stdout",
     "output_type": "stream",
     "text": [
      "Time step 6, Number of iterations 7, Load [ 0.  0. -9.]\n"
     ]
    },
    {
     "name": "stderr",
     "output_type": "stream",
     "text": [
      "2025-04-16 17:20:54.736 ( 106.389s) [main            ]       NewtonSolver.cpp:38    INFO| Newton iteration 7: r (abs) = 2.60698e-11 (tol = 1e-08) r (rel) = 5.14023e-13(tol = 1e-08)\n",
      "2025-04-16 17:20:54.736 ( 106.389s) [main            ]       NewtonSolver.cpp:252   INFO| Newton solver finished in 7 iterations and 7 linear solver iterations.\n",
      "2025-04-16 17:20:54.950 ( 106.603s) [main            ]              petsc.cpp:700   INFO| PETSc Krylov solver starting to solve system.\n",
      "2025-04-16 17:20:56.691 ( 108.345s) [main            ]              petsc.cpp:700   INFO| PETSc Krylov solver starting to solve system.\n",
      "2025-04-16 17:20:58.282 ( 109.936s) [main            ]       NewtonSolver.cpp:38    INFO| Newton iteration 2: r (abs) = 1.38506 (tol = 1e-08) r (rel) = 0.0336622(tol = 1e-08)\n",
      "2025-04-16 17:20:58.452 ( 110.106s) [main            ]              petsc.cpp:700   INFO| PETSc Krylov solver starting to solve system.\n",
      "2025-04-16 17:20:59.980 ( 111.633s) [main            ]       NewtonSolver.cpp:38    INFO| Newton iteration 3: r (abs) = 3.03739 (tol = 1e-08) r (rel) = 0.07382(tol = 1e-08)\n",
      "2025-04-16 17:21:00.148 ( 111.801s) [main            ]              petsc.cpp:700   INFO| PETSc Krylov solver starting to solve system.\n",
      "2025-04-16 17:21:01.679 ( 113.333s) [main            ]       NewtonSolver.cpp:38    INFO| Newton iteration 4: r (abs) = 0.0412386 (tol = 1e-08) r (rel) = 0.00100225(tol = 1e-08)\n",
      "2025-04-16 17:21:01.846 ( 113.499s) [main            ]              petsc.cpp:700   INFO| PETSc Krylov solver starting to solve system.\n",
      "2025-04-16 17:21:03.353 ( 115.006s) [main            ]       NewtonSolver.cpp:38    INFO| Newton iteration 5: r (abs) = 0.00205057 (tol = 1e-08) r (rel) = 4.98364e-05(tol = 1e-08)\n"
     ]
    },
    {
     "name": "stdout",
     "output_type": "stream",
     "text": [
      "Time step 7, Number of iterations 6, Load [  0.    0.  -10.5]\n"
     ]
    },
    {
     "name": "stderr",
     "output_type": "stream",
     "text": [
      "2025-04-16 17:21:03.520 ( 115.173s) [main            ]              petsc.cpp:700   INFO| PETSc Krylov solver starting to solve system.\n",
      "2025-04-16 17:21:05.064 ( 116.718s) [main            ]       NewtonSolver.cpp:38    INFO| Newton iteration 6: r (abs) = 1.78865e-08 (tol = 1e-08) r (rel) = 4.34708e-10(tol = 1e-08)\n",
      "2025-04-16 17:21:05.064 ( 116.718s) [main            ]       NewtonSolver.cpp:252   INFO| Newton solver finished in 6 iterations and 6 linear solver iterations.\n",
      "2025-04-16 17:21:05.276 ( 116.929s) [main            ]              petsc.cpp:700   INFO| PETSc Krylov solver starting to solve system.\n",
      "2025-04-16 17:21:07.014 ( 118.667s) [main            ]              petsc.cpp:700   INFO| PETSc Krylov solver starting to solve system.\n",
      "2025-04-16 17:21:08.533 ( 120.186s) [main            ]       NewtonSolver.cpp:38    INFO| Newton iteration 2: r (abs) = 1.06336 (tol = 1e-08) r (rel) = 0.031085(tol = 1e-08)\n",
      "2025-04-16 17:21:08.697 ( 120.350s) [main            ]              petsc.cpp:700   INFO| PETSc Krylov solver starting to solve system.\n",
      "2025-04-16 17:21:10.199 ( 121.852s) [main            ]       NewtonSolver.cpp:38    INFO| Newton iteration 3: r (abs) = 2.0477 (tol = 1e-08) r (rel) = 0.0598598(tol = 1e-08)\n",
      "2025-04-16 17:21:10.363 ( 122.016s) [main            ]              petsc.cpp:700   INFO| PETSc Krylov solver starting to solve system.\n",
      "2025-04-16 17:21:11.908 ( 123.561s) [main            ]       NewtonSolver.cpp:38    INFO| Newton iteration 4: r (abs) = 0.00897719 (tol = 1e-08) r (rel) = 0.000262427(tol = 1e-08)\n",
      "2025-04-16 17:21:12.075 ( 123.728s) [main            ]              petsc.cpp:700   INFO| PETSc Krylov solver starting to solve system.\n",
      "2025-04-16 17:21:13.624 ( 125.277s) [main            ]       NewtonSolver.cpp:38    INFO| Newton iteration 5: r (abs) = 0.000167422 (tol = 1e-08) r (rel) = 4.89419e-06(tol = 1e-08)\n"
     ]
    },
    {
     "name": "stdout",
     "output_type": "stream",
     "text": [
      "Time step 8, Number of iterations 6, Load [  0.   0. -12.]\n"
     ]
    },
    {
     "name": "stderr",
     "output_type": "stream",
     "text": [
      "2025-04-16 17:21:13.793 ( 125.446s) [main            ]              petsc.cpp:700   INFO| PETSc Krylov solver starting to solve system.\n",
      "2025-04-16 17:21:15.342 ( 126.996s) [main            ]       NewtonSolver.cpp:38    INFO| Newton iteration 6: r (abs) = 3.24101e-11 (tol = 1e-08) r (rel) = 9.47435e-13(tol = 1e-08)\n",
      "2025-04-16 17:21:15.342 ( 126.996s) [main            ]       NewtonSolver.cpp:252   INFO| Newton solver finished in 6 iterations and 6 linear solver iterations.\n",
      "2025-04-16 17:21:15.547 ( 127.200s) [main            ]              petsc.cpp:700   INFO| PETSc Krylov solver starting to solve system.\n",
      "2025-04-16 17:21:17.213 ( 128.866s) [main            ]              petsc.cpp:700   INFO| PETSc Krylov solver starting to solve system.\n",
      "2025-04-16 17:21:18.752 ( 130.406s) [main            ]       NewtonSolver.cpp:38    INFO| Newton iteration 2: r (abs) = 0.898789 (tol = 1e-08) r (rel) = 0.0309666(tol = 1e-08)\n",
      "2025-04-16 17:21:18.919 ( 130.572s) [main            ]              petsc.cpp:700   INFO| PETSc Krylov solver starting to solve system.\n",
      "2025-04-16 17:21:20.484 ( 132.137s) [main            ]       NewtonSolver.cpp:38    INFO| Newton iteration 3: r (abs) = 1.38354 (tol = 1e-08) r (rel) = 0.0476679(tol = 1e-08)\n",
      "2025-04-16 17:21:20.650 ( 132.303s) [main            ]              petsc.cpp:700   INFO| PETSc Krylov solver starting to solve system.\n",
      "2025-04-16 17:21:22.169 ( 133.822s) [main            ]       NewtonSolver.cpp:38    INFO| Newton iteration 4: r (abs) = 0.00185096 (tol = 1e-08) r (rel) = 6.37724e-05(tol = 1e-08)\n",
      "2025-04-16 17:21:22.334 ( 133.987s) [main            ]              petsc.cpp:700   INFO| PETSc Krylov solver starting to solve system.\n",
      "2025-04-16 17:21:23.859 ( 135.512s) [main            ]       NewtonSolver.cpp:38    INFO| Newton iteration 5: r (abs) = 7.87183e-06 (tol = 1e-08) r (rel) = 2.71213e-07(tol = 1e-08)\n",
      "2025-04-16 17:21:24.025 ( 135.678s) [main            ]              petsc.cpp:700   INFO| PETSc Krylov solver starting to solve system.\n",
      "2025-04-16 17:21:25.585 ( 137.238s) [main            ]       NewtonSolver.cpp:38    INFO| Newton iteration 6: r (abs) = 2.28231e-13 (tol = 1e-08) r (rel) = 7.86338e-15(tol = 1e-08)\n",
      "2025-04-16 17:21:25.585 ( 137.238s) [main            ]       NewtonSolver.cpp:252   INFO| Newton solver finished in 6 iterations and 6 linear solver iterations.\n"
     ]
    },
    {
     "name": "stdout",
     "output_type": "stream",
     "text": [
      "Time step 9, Number of iterations 6, Load [  0.    0.  -13.5]\n"
     ]
    }
   ],
   "source": [
    "log.set_log_level(log.LogLevel.INFO)\n",
    "tval0 = -1.5\n",
    "for n in range(1, 10):\n",
    "    T.value[2] = n * tval0\n",
    "    num_its, converged = solver.solve(u)\n",
    "    assert (converged)\n",
    "    u.x.scatter_forward()\n",
    "    print(f\"Time step {n}, Number of iterations {num_its}, Load {T.value}\")\n",
    "    function_grid[\"u\"][:, :len(u)] = u.x.array.reshape(geometry.shape[0], len(u))\n",
    "    magnitude.interpolate(us)\n",
    "    warped.set_active_scalars(\"mag\")\n",
    "    warped_n = function_grid.warp_by_vector(factor=1)\n",
    "    warped.points[:, :] = warped_n.points\n",
    "    warped.point_data[\"mag\"][:] = magnitude.x.array\n",
    "    plotter.update_scalar_bar_range([0, 10])\n",
    "    plotter.write_frame()\n",
    "plotter.close()"
   ]
  },
  {
   "cell_type": "markdown",
   "id": "906ef59c-7e89-46e7-9222-9a6e925f4180",
   "metadata": {},
   "source": [
    "![Deformation](results/displacement.gif)\n"
   ]
  },
  {
   "cell_type": "markdown",
   "id": "f0047305",
   "metadata": {},
   "source": []
  }
 ],
 "metadata": {
  "jupytext": {
   "formats": "ipynb,py:light"
  },
  "kernelspec": {
   "display_name": "fenicsx-env",
   "language": "python",
   "name": "python3"
  },
  "language_info": {
   "codemirror_mode": {
    "name": "ipython",
    "version": 3
   },
   "file_extension": ".py",
   "mimetype": "text/x-python",
   "name": "python",
   "nbconvert_exporter": "python",
   "pygments_lexer": "ipython3",
   "version": "3.12.5"
  }
 },
 "nbformat": 4,
 "nbformat_minor": 5
}
